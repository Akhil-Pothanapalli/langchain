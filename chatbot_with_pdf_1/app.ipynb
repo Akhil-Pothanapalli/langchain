{
 "cells": [
  {
   "cell_type": "code",
   "execution_count": 4,
   "metadata": {},
   "outputs": [],
   "source": [
    "import os\n",
    "import pandas as pd\n",
    "import matplotlib.pyplot as plt\n",
    "from transformers import GPT2TokenizerFast\n",
    "from langchain.document_loaders import PyPDFLoader\n",
    "from langchain_text_splitters import RecursiveCharacterTextSplitter\n",
    "from langchain.embeddings import OpenAIEmbeddings\n",
    "from langchain.vectorstores import FAISS\n",
    "from langchain.chains.question_answering import load_qa_chain\n",
    "from langchain_google_genai import ChatGoogleGenerativeAI\n",
    "from langchain.chains import ConversationalRetrievalChain\n",
    "from dotenv import load_dotenv"
   ]
  },
  {
   "cell_type": "code",
   "execution_count": 5,
   "metadata": {},
   "outputs": [],
   "source": [
    "\n",
    "load_dotenv()\n",
    "\n",
    "os.environ[\"GEMINI_API_KEY\"] = os.getenv(\"GEMINI_API_KEY\")"
   ]
  },
  {
   "cell_type": "markdown",
   "metadata": {},
   "source": [
    "1. Loading PDFs and chunking with LangChain"
   ]
  },
  {
   "cell_type": "code",
   "execution_count": 22,
   "metadata": {},
   "outputs": [
    {
     "name": "stdout",
     "output_type": "stream",
     "text": [
      "page_content='with commentar y by' metadata={'source': 'Bhagavad-gita-Swami-BG-Narasingha.pdf', 'page': 2}\n"
     ]
    }
   ],
   "source": [
    "# #add PDFs\n",
    "\n",
    "# #simple method - split by pages\n",
    "# loader = PyPDFLoader(\"Bhagavad-gita-Swami-BG-Narasingha.pdf\")\n",
    "# pages = loader.load_and_split()\n",
    "# print(pages[0])\n",
    "\n",
    "# #skip to step 2 if you're using this method\n",
    "# chunks = pages"
   ]
  },
  {
   "cell_type": "code",
   "execution_count": null,
   "metadata": {},
   "outputs": [],
   "source": [
    "# step 1: convert PDF to text (using PyPDF2)\n",
    "import PyPDF2\n",
    "\n",
    "def extract_text_from_pdf(pdf_path):\n",
    "    text = \"\"\n",
    "    pdf_file_obj = open(pdf_path, \"rb\")\n",
    "    pdf_reader = PyPDF2.PdfFileReader(pdf_file_obj)\n",
    "    for page_num in range(pdf_reader.numPages):\n",
    "        page_obj = pdf_reader.getPage(page_num)\n",
    "        text += page_obj.extractText()\n",
    "    pdf_file_obj.close()\n",
    "    return text\n",
    "\n",
    "doc = extract_text_from_pdf(\"Bhagavad-gita-Swami-BG-Narasingha.pdf\")\n",
    "\n",
    "# step 2: Save to .txt and reopen\n",
    "with open(\"Bhagavad-gita-Swami-BG-Narasingha.txt\", 'w') as f:\n",
    "    f.write(doc)\n",
    "\n",
    "with open(\"Bhagavad-gita-Swami-BG-Narasingha.txt\", 'r') as f:\n",
    "    text = f.read()\n",
    "\n",
    "# step 3: Create function to count tokens (no changes)\n",
    "tokenizer = GPT2TokenizerFast.from_pretrained(\"gpt2\")\n",
    "\n",
    "def count_tokens(text: str) -> int:\n",
    "    return len(tokenizer.encode(text))\n",
    "\n",
    "# step 4: Split text into chunks (no changes)\n",
    "text_splitter = RecursiveCharacterTextSplitter(\n",
    "    chunk_size = 512,\n",
    "    chunk_overlap = 24,\n",
    "    length_function = count_tokens,\n",
    ")\n",
    "\n",
    "chunks = text_splitter.create_documents([text])\n"
   ]
  },
  {
   "cell_type": "code",
   "execution_count": null,
   "metadata": {},
   "outputs": [],
   "source": []
  }
 ],
 "metadata": {
  "kernelspec": {
   "display_name": "venv",
   "language": "python",
   "name": "python3"
  },
  "language_info": {
   "codemirror_mode": {
    "name": "ipython",
    "version": 3
   },
   "file_extension": ".py",
   "mimetype": "text/x-python",
   "name": "python",
   "nbconvert_exporter": "python",
   "pygments_lexer": "ipython3",
   "version": "3.12.4"
  }
 },
 "nbformat": 4,
 "nbformat_minor": 2
}
